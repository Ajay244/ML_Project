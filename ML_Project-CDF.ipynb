{
 "cells": [
  {
   "cell_type": "markdown",
   "metadata": {},
   "source": [
    "### <img src=\"https://github.com/insaid2018/Term-1/blob/master/Images/INSAID_Full%20Logo.png?raw=true\" width=\"240\" height=\"360\" />\n",
    "\n",
    "   # Machine Learning project on Candy dataset"
   ]
  },
  {
   "cell_type": "markdown",
   "metadata": {},
   "source": [
    "## Table of Contents\n",
    "\n",
    "1. [Problem Statement](#section1)<br>\n",
    "2. [Data Loading and Description](#section2)\n",
    "3. [Data Profiling](#section3)\n",
    "    - 3.1 [Understanding the Dataset](#section301)<br/>\n",
    "    - 3.2 [Pre Profiling](#section302)<br/>\n",
    "    - 3.3 [Preprocessing](#section303)<br/>\n",
    "4. [Analysis](#section4)<br>\n",
    "    - 4.1 [Finding Corelation](#section401)<br>\n",
    "    - 4.2 [Bivariate Analysis](#section402)<br>\n",
    "5. [Model Training](#section5)<br>\n",
    "    - 5.1 [Model Train, Prediction & Evaluation using Linear Regression](#section501)<br>\n",
    "    - 5.2 [Model Train, Prediction & Evaluation using Decision Tree](#section502)<br>\n",
    "    - 5.3 [Model Train, Prediction & Evaluation using Random Forest](#section503)<br>\n",
    "6. [Conclusion](#section6)<br>\n",
    "    - 6.1 [Identifying the Components that make a Good Candy](#section601)<br>\n",
    "    - 6.2 [Most Popular and Least Popular Candies](#section602)<br>"
   ]
  },
  {
   "cell_type": "markdown",
   "metadata": {},
   "source": [
    "<a id=section1></a>"
   ]
  },
  {
   "cell_type": "markdown",
   "metadata": {},
   "source": [
    "# 1. Problem Statement"
   ]
  },
  {
   "cell_type": "markdown",
   "metadata": {},
   "source": [
    "### Since this is the Candy Data set which is collected during Online Survey to identify below points<br>\n",
    "1.1 Which qualities are associated with higher rankings?<br>\n",
    "1.2 What’s the most popular candy? Least popular?"
   ]
  },
  {
   "cell_type": "markdown",
   "metadata": {},
   "source": [
    "<a id=section2></a>"
   ]
  },
  {
   "cell_type": "markdown",
   "metadata": {},
   "source": [
    "# 2. Data Loading and Description\n",
    "<img src=\"https://raw.githubusercontent.com/Ajay244/ML_Project/master/HalloweenEventsv2.jpg\" />"
   ]
  },
  {
   "cell_type": "markdown",
   "metadata": {},
   "source": [
    "### Context\n",
    "\n",
    "What’s the best (or at least the most popular) Halloween candy? That was the question this dataset was collected to answer. Data was collected by creating a website where participants were shown presenting two fun-sized candies and asked to click on the one they would prefer to receive. In total, more than 269 thousand votes were collected from 8,371 different IP addresses.\n",
    "\n",
    "__Acknowledgements:__\n",
    "\n",
    "This dataset is Copyright (c) 2014 ESPN Internet Ventures and distributed under an MIT license. Check out the analysis and write-up here: The Ultimate Halloween Candy Power Ranking. Thanks to Walt Hickey for making the data available."
   ]
  },
  {
   "attachments": {
    "image.png": {
     "image/png": "[encoded data removed]"
    }
   },
   "cell_type": "markdown",
   "metadata": {},
   "source": [
    "### Content\n",
    "\n",
    "Candy-data.csv includes attributes for each candy along with its ranking.\n",
    "\n",
    "For binary variables, 1 means yes, 0 means no. The data contains the following fields:\n",
    "\n",
    "![image.png](attachment:image.png)"
   ]
  },
  {
   "cell_type": "markdown",
   "metadata": {},
   "source": [
    "### Importing Packages"
   ]
  },
  {
   "cell_type": "code",
   "execution_count": 62,
   "metadata": {},
   "outputs": [],
   "source": [
    "import numpy as np                                                 # Implemennts milti-dimensional array and matrices\n",
    "import pandas as pd                                                # For data manipulation and analysis\n",
    "import pandas_profiling\n",
    "import matplotlib.pyplot as plt                                   # Plotting library for Python programming language and it's numerical mathematics extension NumPy                     \n",
    "import seaborn as sns                                              # Provides a high level interface for drawing attractive and informative statistical graphics\n",
    "%matplotlib inline\n",
    "sns.set()\n",
    "import sys                                                                      # Import packages\n",
    "import warnings                                                                 # Ignore warning related to pandas_profiling\n",
    "warnings.filterwarnings('ignore')\n",
    "from scipy.stats import spearmanr\n",
    "\n",
    "def display_all(df):\n",
    "    with pd.option_context(\"display.max_rows\", 1000, \"display.max_columns\", 1000): \n",
    "        display(df)                                                                     # Display all dataframe columns in outputs (it has 27 columns, which is wider than the notebook)                                                                                      # This sets it up to dispaly with a horizontal scroll instead of hiding the middle columns\n",
    "\n",
    "from subprocess import check_output"
   ]
  },
  {
   "cell_type": "markdown",
   "metadata": {},
   "source": [
    "### Importing Dataset"
   ]
  },
  {
   "cell_type": "code",
   "execution_count": 12,
   "metadata": {},
   "outputs": [],
   "source": [
    "Candy_data = pd.read_csv(\"https://raw.githubusercontent.com/insaid2018/Term-2/master/Projects/candy-data.csv\")     # Importing training dataset using pd.read_csv"
   ]
  },
  {
   "cell_type": "markdown",
   "metadata": {},
   "source": [
    "<a id=section3></a>"
   ]
  },
  {
   "cell_type": "markdown",
   "metadata": {},
   "source": [
    "# 3. Data Profiling"
   ]
  },
  {
   "cell_type": "markdown",
   "metadata": {},
   "source": [
    "<a id=section301></a>"
   ]
  },
  {
   "cell_type": "markdown",
   "metadata": {},
   "source": [
    "### 3.1 Understanding Data Set"
   ]
  },
  {
   "cell_type": "code",
   "execution_count": 13,
   "metadata": {},
   "outputs": [
    {
     "data": {
      "text/plain": [
       "(85, 13)"
      ]
     },
     "execution_count": 13,
     "metadata": {},
     "output_type": "execute_result"
    }
   ],
   "source": [
    "Candy_data.shape"
   ]
  },
  {
   "cell_type": "code",
   "execution_count": 14,
   "metadata": {},
   "outputs": [
    {
     "data": {
      "text/html": [
       "<div>\n",
       "<style scoped>\n",
       "    .dataframe tbody tr th:only-of-type {\n",
       "        vertical-align: middle;\n",
       "    }\n",
       "\n",
       "    .dataframe tbody tr th {\n",
       "        vertical-align: top;\n",
       "    }\n",
       "\n",
       "    .dataframe thead th {\n",
       "        text-align: right;\n",
       "    }\n",
       "</style>\n",
       "<table border=\"1\" class=\"dataframe\">\n",
       "  <thead>\n",
       "    <tr style=\"text-align: right;\">\n",
       "      <th></th>\n",
       "      <th>competitorname</th>\n",
       "      <th>chocolate</th>\n",
       "      <th>fruity</th>\n",
       "      <th>caramel</th>\n",
       "      <th>peanutyalmondy</th>\n",
       "      <th>nougat</th>\n",
       "      <th>crispedricewafer</th>\n",
       "      <th>hard</th>\n",
       "      <th>bar</th>\n",
       "      <th>pluribus</th>\n",
       "      <th>sugarpercent</th>\n",
       "      <th>pricepercent</th>\n",
       "      <th>winpercent</th>\n",
       "    </tr>\n",
       "  </thead>\n",
       "  <tbody>\n",
       "    <tr>\n",
       "      <th>0</th>\n",
       "      <td>100 Grand</td>\n",
       "      <td>1</td>\n",
       "      <td>0</td>\n",
       "      <td>1</td>\n",
       "      <td>0</td>\n",
       "      <td>0</td>\n",
       "      <td>1</td>\n",
       "      <td>0</td>\n",
       "      <td>1</td>\n",
       "      <td>0</td>\n",
       "      <td>0.732</td>\n",
       "      <td>0.860</td>\n",
       "      <td>66.971725</td>\n",
       "    </tr>\n",
       "    <tr>\n",
       "      <th>1</th>\n",
       "      <td>3 Musketeers</td>\n",
       "      <td>1</td>\n",
       "      <td>0</td>\n",
       "      <td>0</td>\n",
       "      <td>0</td>\n",
       "      <td>1</td>\n",
       "      <td>0</td>\n",
       "      <td>0</td>\n",
       "      <td>1</td>\n",
       "      <td>0</td>\n",
       "      <td>0.604</td>\n",
       "      <td>0.511</td>\n",
       "      <td>67.602936</td>\n",
       "    </tr>\n",
       "    <tr>\n",
       "      <th>2</th>\n",
       "      <td>One dime</td>\n",
       "      <td>0</td>\n",
       "      <td>0</td>\n",
       "      <td>0</td>\n",
       "      <td>0</td>\n",
       "      <td>0</td>\n",
       "      <td>0</td>\n",
       "      <td>0</td>\n",
       "      <td>0</td>\n",
       "      <td>0</td>\n",
       "      <td>0.011</td>\n",
       "      <td>0.116</td>\n",
       "      <td>32.261086</td>\n",
       "    </tr>\n",
       "    <tr>\n",
       "      <th>3</th>\n",
       "      <td>One quarter</td>\n",
       "      <td>0</td>\n",
       "      <td>0</td>\n",
       "      <td>0</td>\n",
       "      <td>0</td>\n",
       "      <td>0</td>\n",
       "      <td>0</td>\n",
       "      <td>0</td>\n",
       "      <td>0</td>\n",
       "      <td>0</td>\n",
       "      <td>0.011</td>\n",
       "      <td>0.511</td>\n",
       "      <td>46.116505</td>\n",
       "    </tr>\n",
       "    <tr>\n",
       "      <th>4</th>\n",
       "      <td>Air Heads</td>\n",
       "      <td>0</td>\n",
       "      <td>1</td>\n",
       "      <td>0</td>\n",
       "      <td>0</td>\n",
       "      <td>0</td>\n",
       "      <td>0</td>\n",
       "      <td>0</td>\n",
       "      <td>0</td>\n",
       "      <td>0</td>\n",
       "      <td>0.906</td>\n",
       "      <td>0.511</td>\n",
       "      <td>52.341465</td>\n",
       "    </tr>\n",
       "  </tbody>\n",
       "</table>\n",
       "</div>"
      ],
      "text/plain": [
       "  competitorname  chocolate  fruity  caramel  peanutyalmondy  nougat  \\\n",
       "0      100 Grand          1       0        1               0       0   \n",
       "1   3 Musketeers          1       0        0               0       1   \n",
       "2       One dime          0       0        0               0       0   \n",
       "3    One quarter          0       0        0               0       0   \n",
       "4      Air Heads          0       1        0               0       0   \n",
       "\n",
       "   crispedricewafer  hard  bar  pluribus  sugarpercent  pricepercent  \\\n",
       "0                 1     0    1         0         0.732         0.860   \n",
       "1                 0     0    1         0         0.604         0.511   \n",
       "2                 0     0    0         0         0.011         0.116   \n",
       "3                 0     0    0         0         0.011         0.511   \n",
       "4                 0     0    0         0         0.906         0.511   \n",
       "\n",
       "   winpercent  \n",
       "0   66.971725  \n",
       "1   67.602936  \n",
       "2   32.261086  \n",
       "3   46.116505  \n",
       "4   52.341465  "
      ]
     },
     "execution_count": 14,
     "metadata": {},
     "output_type": "execute_result"
    }
   ],
   "source": [
    "Candy_data.head()"
   ]
  },
  {
   "cell_type": "code",
   "execution_count": 15,
   "metadata": {},
   "outputs": [
    {
     "data": {
      "text/html": [
       "<div>\n",
       "<style scoped>\n",
       "    .dataframe tbody tr th:only-of-type {\n",
       "        vertical-align: middle;\n",
       "    }\n",
       "\n",
       "    .dataframe tbody tr th {\n",
       "        vertical-align: top;\n",
       "    }\n",
       "\n",
       "    .dataframe thead th {\n",
       "        text-align: right;\n",
       "    }\n",
       "</style>\n",
       "<table border=\"1\" class=\"dataframe\">\n",
       "  <thead>\n",
       "    <tr style=\"text-align: right;\">\n",
       "      <th></th>\n",
       "      <th>competitorname</th>\n",
       "      <th>chocolate</th>\n",
       "      <th>fruity</th>\n",
       "      <th>caramel</th>\n",
       "      <th>peanutyalmondy</th>\n",
       "      <th>nougat</th>\n",
       "      <th>crispedricewafer</th>\n",
       "      <th>hard</th>\n",
       "      <th>bar</th>\n",
       "      <th>pluribus</th>\n",
       "      <th>sugarpercent</th>\n",
       "      <th>pricepercent</th>\n",
       "      <th>winpercent</th>\n",
       "    </tr>\n",
       "  </thead>\n",
       "  <tbody>\n",
       "    <tr>\n",
       "      <th>80</th>\n",
       "      <td>Twizzlers</td>\n",
       "      <td>0</td>\n",
       "      <td>1</td>\n",
       "      <td>0</td>\n",
       "      <td>0</td>\n",
       "      <td>0</td>\n",
       "      <td>0</td>\n",
       "      <td>0</td>\n",
       "      <td>0</td>\n",
       "      <td>0</td>\n",
       "      <td>0.220</td>\n",
       "      <td>0.116</td>\n",
       "      <td>45.466282</td>\n",
       "    </tr>\n",
       "    <tr>\n",
       "      <th>81</th>\n",
       "      <td>Warheads</td>\n",
       "      <td>0</td>\n",
       "      <td>1</td>\n",
       "      <td>0</td>\n",
       "      <td>0</td>\n",
       "      <td>0</td>\n",
       "      <td>0</td>\n",
       "      <td>1</td>\n",
       "      <td>0</td>\n",
       "      <td>0</td>\n",
       "      <td>0.093</td>\n",
       "      <td>0.116</td>\n",
       "      <td>39.011898</td>\n",
       "    </tr>\n",
       "    <tr>\n",
       "      <th>82</th>\n",
       "      <td>WelchÕs Fruit Snacks</td>\n",
       "      <td>0</td>\n",
       "      <td>1</td>\n",
       "      <td>0</td>\n",
       "      <td>0</td>\n",
       "      <td>0</td>\n",
       "      <td>0</td>\n",
       "      <td>0</td>\n",
       "      <td>0</td>\n",
       "      <td>1</td>\n",
       "      <td>0.313</td>\n",
       "      <td>0.313</td>\n",
       "      <td>44.375519</td>\n",
       "    </tr>\n",
       "    <tr>\n",
       "      <th>83</th>\n",
       "      <td>WertherÕs Original Caramel</td>\n",
       "      <td>0</td>\n",
       "      <td>0</td>\n",
       "      <td>1</td>\n",
       "      <td>0</td>\n",
       "      <td>0</td>\n",
       "      <td>0</td>\n",
       "      <td>1</td>\n",
       "      <td>0</td>\n",
       "      <td>0</td>\n",
       "      <td>0.186</td>\n",
       "      <td>0.267</td>\n",
       "      <td>41.904308</td>\n",
       "    </tr>\n",
       "    <tr>\n",
       "      <th>84</th>\n",
       "      <td>Whoppers</td>\n",
       "      <td>1</td>\n",
       "      <td>0</td>\n",
       "      <td>0</td>\n",
       "      <td>0</td>\n",
       "      <td>0</td>\n",
       "      <td>1</td>\n",
       "      <td>0</td>\n",
       "      <td>0</td>\n",
       "      <td>1</td>\n",
       "      <td>0.872</td>\n",
       "      <td>0.848</td>\n",
       "      <td>49.524113</td>\n",
       "    </tr>\n",
       "  </tbody>\n",
       "</table>\n",
       "</div>"
      ],
      "text/plain": [
       "                competitorname  chocolate  fruity  caramel  peanutyalmondy  \\\n",
       "80                   Twizzlers          0       1        0               0   \n",
       "81                    Warheads          0       1        0               0   \n",
       "82        WelchÕs Fruit Snacks          0       1        0               0   \n",
       "83  WertherÕs Original Caramel          0       0        1               0   \n",
       "84                    Whoppers          1       0        0               0   \n",
       "\n",
       "    nougat  crispedricewafer  hard  bar  pluribus  sugarpercent  pricepercent  \\\n",
       "80       0                 0     0    0         0         0.220         0.116   \n",
       "81       0                 0     1    0         0         0.093         0.116   \n",
       "82       0                 0     0    0         1         0.313         0.313   \n",
       "83       0                 0     1    0         0         0.186         0.267   \n",
       "84       0                 1     0    0         1         0.872         0.848   \n",
       "\n",
       "    winpercent  \n",
       "80   45.466282  \n",
       "81   39.011898  \n",
       "82   44.375519  \n",
       "83   41.904308  \n",
       "84   49.524113  "
      ]
     },
     "execution_count": 15,
     "metadata": {},
     "output_type": "execute_result"
    }
   ],
   "source": [
    "Candy_data.tail()  "
   ]
  },
  {
   "cell_type": "code",
   "execution_count": 16,
   "metadata": {},
   "outputs": [
    {
     "name": "stdout",
     "output_type": "stream",
     "text": [
      "<class 'pandas.core.frame.DataFrame'>\n",
      "RangeIndex: 85 entries, 0 to 84\n",
      "Data columns (total 13 columns):\n",
      "competitorname      85 non-null object\n",
      "chocolate           85 non-null int64\n",
      "fruity              85 non-null int64\n",
      "caramel             85 non-null int64\n",
      "peanutyalmondy      85 non-null int64\n",
      "nougat              85 non-null int64\n",
      "crispedricewafer    85 non-null int64\n",
      "hard                85 non-null int64\n",
      "bar                 85 non-null int64\n",
      "pluribus            85 non-null int64\n",
      "sugarpercent        85 non-null float64\n",
      "pricepercent        85 non-null float64\n",
      "winpercent          85 non-null float64\n",
      "dtypes: float64(3), int64(9), object(1)\n",
      "memory usage: 8.7+ KB\n"
     ]
    }
   ],
   "source": [
    "Candy_data.info()   "
   ]
  },
  {
   "cell_type": "code",
   "execution_count": 17,
   "metadata": {},
   "outputs": [
    {
     "data": {
      "text/plain": [
       "competitorname      0\n",
       "chocolate           0\n",
       "fruity              0\n",
       "caramel             0\n",
       "peanutyalmondy      0\n",
       "nougat              0\n",
       "crispedricewafer    0\n",
       "hard                0\n",
       "bar                 0\n",
       "pluribus            0\n",
       "sugarpercent        0\n",
       "pricepercent        0\n",
       "winpercent          0\n",
       "dtype: int64"
      ]
     },
     "execution_count": 17,
     "metadata": {},
     "output_type": "execute_result"
    }
   ],
   "source": [
    "Candy_data.isnull().sum()"
   ]
  },
  {
   "cell_type": "markdown",
   "metadata": {},
   "source": [
    "Above Statement shows that there is no column having blank/NAN data."
   ]
  },
  {
   "cell_type": "code",
   "execution_count": 22,
   "metadata": {},
   "outputs": [
    {
     "data": {
      "text/html": [
       "<div>\n",
       "<style scoped>\n",
       "    .dataframe tbody tr th:only-of-type {\n",
       "        vertical-align: middle;\n",
       "    }\n",
       "\n",
       "    .dataframe tbody tr th {\n",
       "        vertical-align: top;\n",
       "    }\n",
       "\n",
       "    .dataframe thead th {\n",
       "        text-align: right;\n",
       "    }\n",
       "</style>\n",
       "<table border=\"1\" class=\"dataframe\">\n",
       "  <thead>\n",
       "    <tr style=\"text-align: right;\">\n",
       "      <th></th>\n",
       "      <th>competitorname</th>\n",
       "      <th>chocolate</th>\n",
       "      <th>fruity</th>\n",
       "      <th>caramel</th>\n",
       "      <th>peanutyalmondy</th>\n",
       "      <th>nougat</th>\n",
       "      <th>crispedricewafer</th>\n",
       "      <th>hard</th>\n",
       "      <th>bar</th>\n",
       "      <th>pluribus</th>\n",
       "      <th>sugarpercent</th>\n",
       "      <th>pricepercent</th>\n",
       "      <th>winpercent</th>\n",
       "    </tr>\n",
       "  </thead>\n",
       "  <tbody>\n",
       "    <tr>\n",
       "      <th>count</th>\n",
       "      <td>85</td>\n",
       "      <td>85.000000</td>\n",
       "      <td>85.000000</td>\n",
       "      <td>85.000000</td>\n",
       "      <td>85.000000</td>\n",
       "      <td>85.000000</td>\n",
       "      <td>85.000000</td>\n",
       "      <td>85.000000</td>\n",
       "      <td>85.000000</td>\n",
       "      <td>85.000000</td>\n",
       "      <td>85.000000</td>\n",
       "      <td>85.000000</td>\n",
       "      <td>85.000000</td>\n",
       "    </tr>\n",
       "    <tr>\n",
       "      <th>unique</th>\n",
       "      <td>85</td>\n",
       "      <td>NaN</td>\n",
       "      <td>NaN</td>\n",
       "      <td>NaN</td>\n",
       "      <td>NaN</td>\n",
       "      <td>NaN</td>\n",
       "      <td>NaN</td>\n",
       "      <td>NaN</td>\n",
       "      <td>NaN</td>\n",
       "      <td>NaN</td>\n",
       "      <td>NaN</td>\n",
       "      <td>NaN</td>\n",
       "      <td>NaN</td>\n",
       "    </tr>\n",
       "    <tr>\n",
       "      <th>top</th>\n",
       "      <td>Runts</td>\n",
       "      <td>NaN</td>\n",
       "      <td>NaN</td>\n",
       "      <td>NaN</td>\n",
       "      <td>NaN</td>\n",
       "      <td>NaN</td>\n",
       "      <td>NaN</td>\n",
       "      <td>NaN</td>\n",
       "      <td>NaN</td>\n",
       "      <td>NaN</td>\n",
       "      <td>NaN</td>\n",
       "      <td>NaN</td>\n",
       "      <td>NaN</td>\n",
       "    </tr>\n",
       "    <tr>\n",
       "      <th>freq</th>\n",
       "      <td>1</td>\n",
       "      <td>NaN</td>\n",
       "      <td>NaN</td>\n",
       "      <td>NaN</td>\n",
       "      <td>NaN</td>\n",
       "      <td>NaN</td>\n",
       "      <td>NaN</td>\n",
       "      <td>NaN</td>\n",
       "      <td>NaN</td>\n",
       "      <td>NaN</td>\n",
       "      <td>NaN</td>\n",
       "      <td>NaN</td>\n",
       "      <td>NaN</td>\n",
       "    </tr>\n",
       "    <tr>\n",
       "      <th>mean</th>\n",
       "      <td>NaN</td>\n",
       "      <td>0.435294</td>\n",
       "      <td>0.447059</td>\n",
       "      <td>0.164706</td>\n",
       "      <td>0.164706</td>\n",
       "      <td>0.082353</td>\n",
       "      <td>0.082353</td>\n",
       "      <td>0.176471</td>\n",
       "      <td>0.247059</td>\n",
       "      <td>0.517647</td>\n",
       "      <td>0.478647</td>\n",
       "      <td>0.468882</td>\n",
       "      <td>50.316764</td>\n",
       "    </tr>\n",
       "    <tr>\n",
       "      <th>std</th>\n",
       "      <td>NaN</td>\n",
       "      <td>0.498738</td>\n",
       "      <td>0.500140</td>\n",
       "      <td>0.373116</td>\n",
       "      <td>0.373116</td>\n",
       "      <td>0.276533</td>\n",
       "      <td>0.276533</td>\n",
       "      <td>0.383482</td>\n",
       "      <td>0.433861</td>\n",
       "      <td>0.502654</td>\n",
       "      <td>0.282778</td>\n",
       "      <td>0.285740</td>\n",
       "      <td>14.714357</td>\n",
       "    </tr>\n",
       "    <tr>\n",
       "      <th>min</th>\n",
       "      <td>NaN</td>\n",
       "      <td>0.000000</td>\n",
       "      <td>0.000000</td>\n",
       "      <td>0.000000</td>\n",
       "      <td>0.000000</td>\n",
       "      <td>0.000000</td>\n",
       "      <td>0.000000</td>\n",
       "      <td>0.000000</td>\n",
       "      <td>0.000000</td>\n",
       "      <td>0.000000</td>\n",
       "      <td>0.011000</td>\n",
       "      <td>0.011000</td>\n",
       "      <td>22.445341</td>\n",
       "    </tr>\n",
       "    <tr>\n",
       "      <th>25%</th>\n",
       "      <td>NaN</td>\n",
       "      <td>0.000000</td>\n",
       "      <td>0.000000</td>\n",
       "      <td>0.000000</td>\n",
       "      <td>0.000000</td>\n",
       "      <td>0.000000</td>\n",
       "      <td>0.000000</td>\n",
       "      <td>0.000000</td>\n",
       "      <td>0.000000</td>\n",
       "      <td>0.000000</td>\n",
       "      <td>0.220000</td>\n",
       "      <td>0.255000</td>\n",
       "      <td>39.141056</td>\n",
       "    </tr>\n",
       "    <tr>\n",
       "      <th>50%</th>\n",
       "      <td>NaN</td>\n",
       "      <td>0.000000</td>\n",
       "      <td>0.000000</td>\n",
       "      <td>0.000000</td>\n",
       "      <td>0.000000</td>\n",
       "      <td>0.000000</td>\n",
       "      <td>0.000000</td>\n",
       "      <td>0.000000</td>\n",
       "      <td>0.000000</td>\n",
       "      <td>1.000000</td>\n",
       "      <td>0.465000</td>\n",
       "      <td>0.465000</td>\n",
       "      <td>47.829754</td>\n",
       "    </tr>\n",
       "    <tr>\n",
       "      <th>75%</th>\n",
       "      <td>NaN</td>\n",
       "      <td>1.000000</td>\n",
       "      <td>1.000000</td>\n",
       "      <td>0.000000</td>\n",
       "      <td>0.000000</td>\n",
       "      <td>0.000000</td>\n",
       "      <td>0.000000</td>\n",
       "      <td>0.000000</td>\n",
       "      <td>0.000000</td>\n",
       "      <td>1.000000</td>\n",
       "      <td>0.732000</td>\n",
       "      <td>0.651000</td>\n",
       "      <td>59.863998</td>\n",
       "    </tr>\n",
       "    <tr>\n",
       "      <th>max</th>\n",
       "      <td>NaN</td>\n",
       "      <td>1.000000</td>\n",
       "      <td>1.000000</td>\n",
       "      <td>1.000000</td>\n",
       "      <td>1.000000</td>\n",
       "      <td>1.000000</td>\n",
       "      <td>1.000000</td>\n",
       "      <td>1.000000</td>\n",
       "      <td>1.000000</td>\n",
       "      <td>1.000000</td>\n",
       "      <td>0.988000</td>\n",
       "      <td>0.976000</td>\n",
       "      <td>84.180290</td>\n",
       "    </tr>\n",
       "  </tbody>\n",
       "</table>\n",
       "</div>"
      ],
      "text/plain": [
       "       competitorname  chocolate     fruity    caramel  peanutyalmondy  \\\n",
       "count              85  85.000000  85.000000  85.000000       85.000000   \n",
       "unique             85        NaN        NaN        NaN             NaN   \n",
       "top             Runts        NaN        NaN        NaN             NaN   \n",
       "freq                1        NaN        NaN        NaN             NaN   \n",
       "mean              NaN   0.435294   0.447059   0.164706        0.164706   \n",
       "std               NaN   0.498738   0.500140   0.373116        0.373116   \n",
       "min               NaN   0.000000   0.000000   0.000000        0.000000   \n",
       "25%               NaN   0.000000   0.000000   0.000000        0.000000   \n",
       "50%               NaN   0.000000   0.000000   0.000000        0.000000   \n",
       "75%               NaN   1.000000   1.000000   0.000000        0.000000   \n",
       "max               NaN   1.000000   1.000000   1.000000        1.000000   \n",
       "\n",
       "           nougat  crispedricewafer       hard        bar   pluribus  \\\n",
       "count   85.000000         85.000000  85.000000  85.000000  85.000000   \n",
       "unique        NaN               NaN        NaN        NaN        NaN   \n",
       "top           NaN               NaN        NaN        NaN        NaN   \n",
       "freq          NaN               NaN        NaN        NaN        NaN   \n",
       "mean     0.082353          0.082353   0.176471   0.247059   0.517647   \n",
       "std      0.276533          0.276533   0.383482   0.433861   0.502654   \n",
       "min      0.000000          0.000000   0.000000   0.000000   0.000000   \n",
       "25%      0.000000          0.000000   0.000000   0.000000   0.000000   \n",
       "50%      0.000000          0.000000   0.000000   0.000000   1.000000   \n",
       "75%      0.000000          0.000000   0.000000   0.000000   1.000000   \n",
       "max      1.000000          1.000000   1.000000   1.000000   1.000000   \n",
       "\n",
       "        sugarpercent  pricepercent  winpercent  \n",
       "count      85.000000     85.000000   85.000000  \n",
       "unique           NaN           NaN         NaN  \n",
       "top              NaN           NaN         NaN  \n",
       "freq             NaN           NaN         NaN  \n",
       "mean        0.478647      0.468882   50.316764  \n",
       "std         0.282778      0.285740   14.714357  \n",
       "min         0.011000      0.011000   22.445341  \n",
       "25%         0.220000      0.255000   39.141056  \n",
       "50%         0.465000      0.465000   47.829754  \n",
       "75%         0.732000      0.651000   59.863998  \n",
       "max         0.988000      0.976000   84.180290  "
      ]
     },
     "execution_count": 22,
     "metadata": {},
     "output_type": "execute_result"
    }
   ],
   "source": [
    "Candy_data.describe(include='all')"
   ]
  },
  {
   "cell_type": "markdown",
   "metadata": {},
   "source": [
    "<a id=section302></a>"
   ]
  },
  {
   "cell_type": "markdown",
   "metadata": {},
   "source": [
    "### 3.2 Pre Profiling"
   ]
  },
  {
   "cell_type": "markdown",
   "metadata": {},
   "source": [
    "- By pandas profiling, an __interactive HTML report__ gets generated which contins all the information about the columns of the dataset, like the __counts and type__ of each _column_. Detailed information about each column, __coorelation between different columns__ and a sample of dataset.<br/>\n",
    "- It gives us __visual interpretation__ of each column in the data.\n",
    "- _Spread of the data_ can be better understood by the distribution plot. \n",
    "- _Grannular level_ analysis of each column."
   ]
  },
  {
   "cell_type": "code",
   "execution_count": 24,
   "metadata": {},
   "outputs": [],
   "source": [
    "profile = pandas_profiling.ProfileReport(Candy_data)\n",
    "profile.to_file(outputfile=\"Matches_before_preprocessing.html\")"
   ]
  },
  {
   "cell_type": "markdown",
   "metadata": {},
   "source": [
    "1. Total missing value is 0<br>\n",
    "2. There are 43% chocolates which has one of the combination as Chocolate.<br>\n",
    "3. There are 44% Chocolates which has one of the combination as Fruity.<br>\n",
    "4. 48% of the chocolates are either in a box or bag.<br>\n",
    "5. 24% of the chocolates are in Bar form.<br>"
   ]
  },
  {
   "cell_type": "markdown",
   "metadata": {},
   "source": [
    "<a id=section302></a>"
   ]
  },
  {
   "cell_type": "markdown",
   "metadata": {},
   "source": [
    "### 3.3 Preprocessing"
   ]
  },
  {
   "cell_type": "markdown",
   "metadata": {},
   "source": [
    "Since there are no missing values and no Columns which need to be drop hence no Preprocessing is required. "
   ]
  },
  {
   "cell_type": "markdown",
   "metadata": {},
   "source": [
    "<a id=section4></a>"
   ]
  },
  {
   "cell_type": "markdown",
   "metadata": {},
   "source": [
    "# 4. Analysis"
   ]
  },
  {
   "cell_type": "markdown",
   "metadata": {},
   "source": [
    "<a id=section401></a>"
   ]
  },
  {
   "cell_type": "markdown",
   "metadata": {},
   "source": [
    "### 4.1 Finding Corelation"
   ]
  },
  {
   "cell_type": "markdown",
   "metadata": {},
   "source": [
    "Establishing __coorelation__ between all the features using __heatmap__."
   ]
  },
  {
   "cell_type": "code",
   "execution_count": 59,
   "metadata": {},
   "outputs": [
    {
     "data": {
      "text/plain": [
       "Text(0.5,1,'Correlation between features')"
      ]
     },
     "execution_count": 59,
     "metadata": {},
     "output_type": "execute_result"
    },
    {
     "data": {
      "image/png": "[encoded data removed]",
      "text/plain": [
       "<Figure size 1440x720 with 2 Axes>"
      ]
     },
     "metadata": {},
     "output_type": "display_data"
    }
   ],
   "source": [
    "orr = Candy_data.corr()\n",
    "plt.figure(figsize=(20,10))\n",
    "sns.heatmap(Candy_data.corr().abs(),annot = True)\n",
    "plt.title('Correlation between features')"
   ]
  },
  {
   "cell_type": "markdown",
   "metadata": {},
   "source": [
    "From the above observation we can see that there is high corelation between Chocolate & Fruity. "
   ]
  },
  {
   "cell_type": "code",
   "execution_count": 34,
   "metadata": {},
   "outputs": [
    {
     "data": {
      "text/html": [
       "<div>\n",
       "<style scoped>\n",
       "    .dataframe tbody tr th:only-of-type {\n",
       "        vertical-align: middle;\n",
       "    }\n",
       "\n",
       "    .dataframe tbody tr th {\n",
       "        vertical-align: top;\n",
       "    }\n",
       "\n",
       "    .dataframe thead th {\n",
       "        text-align: right;\n",
       "    }\n",
       "</style>\n",
       "<table border=\"1\" class=\"dataframe\">\n",
       "  <thead>\n",
       "    <tr style=\"text-align: right;\">\n",
       "      <th></th>\n",
       "      <th>Feature1</th>\n",
       "      <th>Feature2</th>\n",
       "      <th>corr</th>\n",
       "    </tr>\n",
       "  </thead>\n",
       "  <tbody>\n",
       "    <tr>\n",
       "      <th>0</th>\n",
       "      <td>chocolate</td>\n",
       "      <td>fruity</td>\n",
       "      <td>0.741721</td>\n",
       "    </tr>\n",
       "    <tr>\n",
       "      <th>1</th>\n",
       "      <td>chocolate</td>\n",
       "      <td>winpercent</td>\n",
       "      <td>0.636517</td>\n",
       "    </tr>\n",
       "    <tr>\n",
       "      <th>2</th>\n",
       "      <td>chocolate</td>\n",
       "      <td>bar</td>\n",
       "      <td>0.597421</td>\n",
       "    </tr>\n",
       "    <tr>\n",
       "      <th>3</th>\n",
       "      <td>bar</td>\n",
       "      <td>pluribus</td>\n",
       "      <td>0.593409</td>\n",
       "    </tr>\n",
       "    <tr>\n",
       "      <th>4</th>\n",
       "      <td>nougat</td>\n",
       "      <td>bar</td>\n",
       "      <td>0.522976</td>\n",
       "    </tr>\n",
       "    <tr>\n",
       "      <th>5</th>\n",
       "      <td>bar</td>\n",
       "      <td>pricepercent</td>\n",
       "      <td>0.518407</td>\n",
       "    </tr>\n",
       "    <tr>\n",
       "      <th>6</th>\n",
       "      <td>fruity</td>\n",
       "      <td>bar</td>\n",
       "      <td>0.515066</td>\n",
       "    </tr>\n",
       "    <tr>\n",
       "      <th>7</th>\n",
       "      <td>chocolate</td>\n",
       "      <td>pricepercent</td>\n",
       "      <td>0.504675</td>\n",
       "    </tr>\n",
       "    <tr>\n",
       "      <th>8</th>\n",
       "      <td>fruity</td>\n",
       "      <td>pricepercent</td>\n",
       "      <td>0.430969</td>\n",
       "    </tr>\n",
       "    <tr>\n",
       "      <th>9</th>\n",
       "      <td>bar</td>\n",
       "      <td>winpercent</td>\n",
       "      <td>0.429929</td>\n",
       "    </tr>\n",
       "    <tr>\n",
       "      <th>10</th>\n",
       "      <td>crispedricewafer</td>\n",
       "      <td>bar</td>\n",
       "      <td>0.423751</td>\n",
       "    </tr>\n",
       "    <tr>\n",
       "      <th>11</th>\n",
       "      <td>peanutyalmondy</td>\n",
       "      <td>winpercent</td>\n",
       "      <td>0.406192</td>\n",
       "    </tr>\n",
       "    <tr>\n",
       "      <th>12</th>\n",
       "      <td>fruity</td>\n",
       "      <td>peanutyalmondy</td>\n",
       "      <td>0.399280</td>\n",
       "    </tr>\n",
       "    <tr>\n",
       "      <th>13</th>\n",
       "      <td>fruity</td>\n",
       "      <td>hard</td>\n",
       "      <td>0.390678</td>\n",
       "    </tr>\n",
       "    <tr>\n",
       "      <th>14</th>\n",
       "      <td>fruity</td>\n",
       "      <td>winpercent</td>\n",
       "      <td>0.380938</td>\n",
       "    </tr>\n",
       "    <tr>\n",
       "      <th>15</th>\n",
       "      <td>chocolate</td>\n",
       "      <td>peanutyalmondy</td>\n",
       "      <td>0.377824</td>\n",
       "    </tr>\n",
       "    <tr>\n",
       "      <th>16</th>\n",
       "      <td>pricepercent</td>\n",
       "      <td>winpercent</td>\n",
       "      <td>0.345325</td>\n",
       "    </tr>\n",
       "    <tr>\n",
       "      <th>17</th>\n",
       "      <td>chocolate</td>\n",
       "      <td>hard</td>\n",
       "      <td>0.344177</td>\n",
       "    </tr>\n",
       "    <tr>\n",
       "      <th>18</th>\n",
       "      <td>chocolate</td>\n",
       "      <td>crispedricewafer</td>\n",
       "      <td>0.341210</td>\n",
       "    </tr>\n",
       "    <tr>\n",
       "      <th>19</th>\n",
       "      <td>chocolate</td>\n",
       "      <td>pluribus</td>\n",
       "      <td>0.339675</td>\n",
       "    </tr>\n",
       "    <tr>\n",
       "      <th>20</th>\n",
       "      <td>fruity</td>\n",
       "      <td>caramel</td>\n",
       "      <td>0.335485</td>\n",
       "    </tr>\n",
       "    <tr>\n",
       "      <th>21</th>\n",
       "      <td>caramel</td>\n",
       "      <td>bar</td>\n",
       "      <td>0.333960</td>\n",
       "    </tr>\n",
       "    <tr>\n",
       "      <th>22</th>\n",
       "      <td>sugarpercent</td>\n",
       "      <td>pricepercent</td>\n",
       "      <td>0.329706</td>\n",
       "    </tr>\n",
       "    <tr>\n",
       "      <th>23</th>\n",
       "      <td>caramel</td>\n",
       "      <td>nougat</td>\n",
       "      <td>0.328493</td>\n",
       "    </tr>\n",
       "    <tr>\n",
       "      <th>24</th>\n",
       "      <td>crispedricewafer</td>\n",
       "      <td>pricepercent</td>\n",
       "      <td>0.328265</td>\n",
       "    </tr>\n",
       "    <tr>\n",
       "      <th>25</th>\n",
       "      <td>crispedricewafer</td>\n",
       "      <td>winpercent</td>\n",
       "      <td>0.324680</td>\n",
       "    </tr>\n",
       "    <tr>\n",
       "      <th>26</th>\n",
       "      <td>hard</td>\n",
       "      <td>winpercent</td>\n",
       "      <td>0.310382</td>\n",
       "    </tr>\n",
       "    <tr>\n",
       "      <th>27</th>\n",
       "      <td>nougat</td>\n",
       "      <td>pluribus</td>\n",
       "      <td>0.310339</td>\n",
       "    </tr>\n",
       "    <tr>\n",
       "      <th>28</th>\n",
       "      <td>peanutyalmondy</td>\n",
       "      <td>pricepercent</td>\n",
       "      <td>0.309153</td>\n",
       "    </tr>\n",
       "    <tr>\n",
       "      <th>29</th>\n",
       "      <td>fruity</td>\n",
       "      <td>pluribus</td>\n",
       "      <td>0.299725</td>\n",
       "    </tr>\n",
       "    <tr>\n",
       "      <th>30</th>\n",
       "      <td>caramel</td>\n",
       "      <td>pluribus</td>\n",
       "      <td>0.269585</td>\n",
       "    </tr>\n",
       "    <tr>\n",
       "      <th>31</th>\n",
       "      <td>fruity</td>\n",
       "      <td>crispedricewafer</td>\n",
       "      <td>0.269367</td>\n",
       "    </tr>\n",
       "    <tr>\n",
       "      <th>32</th>\n",
       "      <td>fruity</td>\n",
       "      <td>nougat</td>\n",
       "      <td>0.269367</td>\n",
       "    </tr>\n",
       "    <tr>\n",
       "      <th>33</th>\n",
       "      <td>hard</td>\n",
       "      <td>bar</td>\n",
       "      <td>0.265165</td>\n",
       "    </tr>\n",
       "    <tr>\n",
       "      <th>34</th>\n",
       "      <td>peanutyalmondy</td>\n",
       "      <td>bar</td>\n",
       "      <td>0.260420</td>\n",
       "    </tr>\n",
       "    <tr>\n",
       "      <th>35</th>\n",
       "      <td>chocolate</td>\n",
       "      <td>nougat</td>\n",
       "      <td>0.254892</td>\n",
       "    </tr>\n",
       "    <tr>\n",
       "      <th>36</th>\n",
       "      <td>caramel</td>\n",
       "      <td>pricepercent</td>\n",
       "      <td>0.254327</td>\n",
       "    </tr>\n",
       "    <tr>\n",
       "      <th>37</th>\n",
       "      <td>chocolate</td>\n",
       "      <td>caramel</td>\n",
       "      <td>0.249875</td>\n",
       "    </tr>\n",
       "    <tr>\n",
       "      <th>38</th>\n",
       "      <td>pluribus</td>\n",
       "      <td>winpercent</td>\n",
       "      <td>0.247448</td>\n",
       "    </tr>\n",
       "    <tr>\n",
       "      <th>39</th>\n",
       "      <td>hard</td>\n",
       "      <td>pricepercent</td>\n",
       "      <td>0.244365</td>\n",
       "    </tr>\n",
       "    <tr>\n",
       "      <th>40</th>\n",
       "      <td>sugarpercent</td>\n",
       "      <td>winpercent</td>\n",
       "      <td>0.229151</td>\n",
       "    </tr>\n",
       "    <tr>\n",
       "      <th>41</th>\n",
       "      <td>crispedricewafer</td>\n",
       "      <td>pluribus</td>\n",
       "      <td>0.224693</td>\n",
       "    </tr>\n",
       "    <tr>\n",
       "      <th>42</th>\n",
       "      <td>caramel</td>\n",
       "      <td>sugarpercent</td>\n",
       "      <td>0.221933</td>\n",
       "    </tr>\n",
       "    <tr>\n",
       "      <th>43</th>\n",
       "      <td>pluribus</td>\n",
       "      <td>pricepercent</td>\n",
       "      <td>0.220794</td>\n",
       "    </tr>\n",
       "    <tr>\n",
       "      <th>44</th>\n",
       "      <td>caramel</td>\n",
       "      <td>winpercent</td>\n",
       "      <td>0.213416</td>\n",
       "    </tr>\n",
       "    <tr>\n",
       "      <th>45</th>\n",
       "      <td>caramel</td>\n",
       "      <td>crispedricewafer</td>\n",
       "      <td>0.213113</td>\n",
       "    </tr>\n",
       "    <tr>\n",
       "      <th>46</th>\n",
       "      <td>peanutyalmondy</td>\n",
       "      <td>nougat</td>\n",
       "      <td>0.213113</td>\n",
       "    </tr>\n",
       "    <tr>\n",
       "      <th>47</th>\n",
       "      <td>peanutyalmondy</td>\n",
       "      <td>pluribus</td>\n",
       "      <td>0.206109</td>\n",
       "    </tr>\n",
       "    <tr>\n",
       "      <th>48</th>\n",
       "      <td>peanutyalmondy</td>\n",
       "      <td>hard</td>\n",
       "      <td>0.205557</td>\n",
       "    </tr>\n",
       "    <tr>\n",
       "      <th>49</th>\n",
       "      <td>nougat</td>\n",
       "      <td>winpercent</td>\n",
       "      <td>0.199375</td>\n",
       "    </tr>\n",
       "    <tr>\n",
       "      <th>50</th>\n",
       "      <td>nougat</td>\n",
       "      <td>pricepercent</td>\n",
       "      <td>0.153196</td>\n",
       "    </tr>\n",
       "    <tr>\n",
       "      <th>51</th>\n",
       "      <td>crispedricewafer</td>\n",
       "      <td>hard</td>\n",
       "      <td>0.138675</td>\n",
       "    </tr>\n",
       "    <tr>\n",
       "      <th>52</th>\n",
       "      <td>nougat</td>\n",
       "      <td>hard</td>\n",
       "      <td>0.138675</td>\n",
       "    </tr>\n",
       "    <tr>\n",
       "      <th>53</th>\n",
       "      <td>nougat</td>\n",
       "      <td>sugarpercent</td>\n",
       "      <td>0.123081</td>\n",
       "    </tr>\n",
       "    <tr>\n",
       "      <th>54</th>\n",
       "      <td>caramel</td>\n",
       "      <td>hard</td>\n",
       "      <td>0.122355</td>\n",
       "    </tr>\n",
       "    <tr>\n",
       "      <th>55</th>\n",
       "      <td>chocolate</td>\n",
       "      <td>sugarpercent</td>\n",
       "      <td>0.104169</td>\n",
       "    </tr>\n",
       "    <tr>\n",
       "      <th>56</th>\n",
       "      <td>bar</td>\n",
       "      <td>sugarpercent</td>\n",
       "      <td>0.099985</td>\n",
       "    </tr>\n",
       "    <tr>\n",
       "      <th>57</th>\n",
       "      <td>hard</td>\n",
       "      <td>sugarpercent</td>\n",
       "      <td>0.091810</td>\n",
       "    </tr>\n",
       "    <tr>\n",
       "      <th>58</th>\n",
       "      <td>nougat</td>\n",
       "      <td>crispedricewafer</td>\n",
       "      <td>0.089744</td>\n",
       "    </tr>\n",
       "    <tr>\n",
       "      <th>59</th>\n",
       "      <td>peanutyalmondy</td>\n",
       "      <td>sugarpercent</td>\n",
       "      <td>0.087889</td>\n",
       "    </tr>\n",
       "    <tr>\n",
       "      <th>60</th>\n",
       "      <td>crispedricewafer</td>\n",
       "      <td>sugarpercent</td>\n",
       "      <td>0.069950</td>\n",
       "    </tr>\n",
       "    <tr>\n",
       "      <th>61</th>\n",
       "      <td>caramel</td>\n",
       "      <td>peanutyalmondy</td>\n",
       "      <td>0.059356</td>\n",
       "    </tr>\n",
       "    <tr>\n",
       "      <th>62</th>\n",
       "      <td>pluribus</td>\n",
       "      <td>sugarpercent</td>\n",
       "      <td>0.045523</td>\n",
       "    </tr>\n",
       "    <tr>\n",
       "      <th>63</th>\n",
       "      <td>fruity</td>\n",
       "      <td>sugarpercent</td>\n",
       "      <td>0.034393</td>\n",
       "    </tr>\n",
       "    <tr>\n",
       "      <th>64</th>\n",
       "      <td>peanutyalmondy</td>\n",
       "      <td>crispedricewafer</td>\n",
       "      <td>0.017646</td>\n",
       "    </tr>\n",
       "    <tr>\n",
       "      <th>65</th>\n",
       "      <td>hard</td>\n",
       "      <td>pluribus</td>\n",
       "      <td>0.014532</td>\n",
       "    </tr>\n",
       "  </tbody>\n",
       "</table>\n",
       "</div>"
      ],
      "text/plain": [
       "            Feature1          Feature2      corr\n",
       "0          chocolate            fruity  0.741721\n",
       "1          chocolate        winpercent  0.636517\n",
       "2          chocolate               bar  0.597421\n",
       "3                bar          pluribus  0.593409\n",
       "4             nougat               bar  0.522976\n",
       "5                bar      pricepercent  0.518407\n",
       "6             fruity               bar  0.515066\n",
       "7          chocolate      pricepercent  0.504675\n",
       "8             fruity      pricepercent  0.430969\n",
       "9                bar        winpercent  0.429929\n",
       "10  crispedricewafer               bar  0.423751\n",
       "11    peanutyalmondy        winpercent  0.406192\n",
       "12            fruity    peanutyalmondy  0.399280\n",
       "13            fruity              hard  0.390678\n",
       "14            fruity        winpercent  0.380938\n",
       "15         chocolate    peanutyalmondy  0.377824\n",
       "16      pricepercent        winpercent  0.345325\n",
       "17         chocolate              hard  0.344177\n",
       "18         chocolate  crispedricewafer  0.341210\n",
       "19         chocolate          pluribus  0.339675\n",
       "20            fruity           caramel  0.335485\n",
       "21           caramel               bar  0.333960\n",
       "22      sugarpercent      pricepercent  0.329706\n",
       "23           caramel            nougat  0.328493\n",
       "24  crispedricewafer      pricepercent  0.328265\n",
       "25  crispedricewafer        winpercent  0.324680\n",
       "26              hard        winpercent  0.310382\n",
       "27            nougat          pluribus  0.310339\n",
       "28    peanutyalmondy      pricepercent  0.309153\n",
       "29            fruity          pluribus  0.299725\n",
       "30           caramel          pluribus  0.269585\n",
       "31            fruity  crispedricewafer  0.269367\n",
       "32            fruity            nougat  0.269367\n",
       "33              hard               bar  0.265165\n",
       "34    peanutyalmondy               bar  0.260420\n",
       "35         chocolate            nougat  0.254892\n",
       "36           caramel      pricepercent  0.254327\n",
       "37         chocolate           caramel  0.249875\n",
       "38          pluribus        winpercent  0.247448\n",
       "39              hard      pricepercent  0.244365\n",
       "40      sugarpercent        winpercent  0.229151\n",
       "41  crispedricewafer          pluribus  0.224693\n",
       "42           caramel      sugarpercent  0.221933\n",
       "43          pluribus      pricepercent  0.220794\n",
       "44           caramel        winpercent  0.213416\n",
       "45           caramel  crispedricewafer  0.213113\n",
       "46    peanutyalmondy            nougat  0.213113\n",
       "47    peanutyalmondy          pluribus  0.206109\n",
       "48    peanutyalmondy              hard  0.205557\n",
       "49            nougat        winpercent  0.199375\n",
       "50            nougat      pricepercent  0.153196\n",
       "51  crispedricewafer              hard  0.138675\n",
       "52            nougat              hard  0.138675\n",
       "53            nougat      sugarpercent  0.123081\n",
       "54           caramel              hard  0.122355\n",
       "55         chocolate      sugarpercent  0.104169\n",
       "56               bar      sugarpercent  0.099985\n",
       "57              hard      sugarpercent  0.091810\n",
       "58            nougat  crispedricewafer  0.089744\n",
       "59    peanutyalmondy      sugarpercent  0.087889\n",
       "60  crispedricewafer      sugarpercent  0.069950\n",
       "61           caramel    peanutyalmondy  0.059356\n",
       "62          pluribus      sugarpercent  0.045523\n",
       "63            fruity      sugarpercent  0.034393\n",
       "64    peanutyalmondy  crispedricewafer  0.017646\n",
       "65              hard          pluribus  0.014532"
      ]
     },
     "metadata": {},
     "output_type": "display_data"
    }
   ],
   "source": [
    "def corrank(X):\n",
    "    import itertools\n",
    "    df = pd.DataFrame([[i,j,X.corr().abs().loc[i,j]] for i,j in list(itertools.combinations(X.corr().abs(), 2))],columns=['Feature1','Feature2','corr'])    \n",
    "    return df.sort_values(by='corr',ascending=False).reset_index(drop=True)\n",
    "\n",
    "# prints a descending list of correlation pair (Max on top)\n",
    "display_all(corrank(Candy_data))"
   ]
  },
  {
   "cell_type": "code",
   "execution_count": 38,
   "metadata": {},
   "outputs": [
    {
     "name": "stdout",
     "output_type": "stream",
     "text": [
      "                 competitorname  chocolate  fruity  caramel  peanutyalmondy  \\\n",
      "0                     100 Grand          1       0        1               0   \n",
      "1                  3 Musketeers          1       0        0               0   \n",
      "6                     Baby Ruth          1       0        1               1   \n",
      "18            Haribo Gold Bears          0       1        0               0   \n",
      "22             HersheyÕs Kisses          1       0        0               0   \n",
      "23            HersheyÕs Krackel          1       0        0               0   \n",
      "24     HersheyÕs Milk Chocolate          1       0        0               0   \n",
      "25       HersheyÕs Special Dark          1       0        0               0   \n",
      "27                 Junior Mints          1       0        0               0   \n",
      "28                      Kit Kat          1       0        0               0   \n",
      "32          Peanut butter M&MÕs          1       0        0               1   \n",
      "33                        M&MÕs          1       0        0               0   \n",
      "35                    Milk Duds          1       0        1               0   \n",
      "36                    Milky Way          1       0        1               0   \n",
      "37           Milky Way Midnight          1       0        1               0   \n",
      "38     Milky Way Simply Caramel          1       0        1               0   \n",
      "40                  Mr Good Bar          1       0        0               1   \n",
      "41                        Nerds          0       1        0               0   \n",
      "42          Nestle Butterfinger          1       0        0               1   \n",
      "43                Nestle Crunch          1       0        0               0   \n",
      "47                  Peanut M&Ms          1       0        0               1   \n",
      "51           ReeseÕs Miniatures          1       0        0               1   \n",
      "52    ReeseÕs Peanut Butter cup          1       0        0               1   \n",
      "53               ReeseÕs pieces          1       0        0               1   \n",
      "54  ReeseÕs stuffed with pieces          1       0        0               1   \n",
      "56                         Rolo          1       0        1               0   \n",
      "60            Skittles original          0       1        0               0   \n",
      "61           Skittles wildberry          0       1        0               0   \n",
      "64                     Snickers          1       0        1               1   \n",
      "65             Snickers Crisper          1       0        1               1   \n",
      "66              Sour Patch Kids          0       1        0               0   \n",
      "68                    Starburst          0       1        0               0   \n",
      "73                 Swedish Fish          0       1        0               0   \n",
      "79                         Twix          1       0        1               0   \n",
      "\n",
      "    nougat  crispedricewafer  hard  bar  pluribus  sugarpercent  pricepercent  \\\n",
      "0        0                 1     0    1         0         0.732         0.860   \n",
      "1        1                 0     0    1         0         0.604         0.511   \n",
      "6        1                 0     0    1         0         0.604         0.767   \n",
      "18       0                 0     0    0         1         0.465         0.465   \n",
      "22       0                 0     0    0         1         0.127         0.093   \n",
      "23       0                 1     0    1         0         0.430         0.918   \n",
      "24       0                 0     0    1         0         0.430         0.918   \n",
      "25       0                 0     0    1         0         0.430         0.918   \n",
      "27       0                 0     0    0         1         0.197         0.511   \n",
      "28       0                 1     0    1         0         0.313         0.511   \n",
      "32       0                 0     0    0         1         0.825         0.651   \n",
      "33       0                 0     0    0         1         0.825         0.651   \n",
      "35       0                 0     0    0         1         0.302         0.511   \n",
      "36       1                 0     0    1         0         0.604         0.651   \n",
      "37       1                 0     0    1         0         0.732         0.441   \n",
      "38       0                 0     0    1         0         0.965         0.860   \n",
      "40       0                 0     0    1         0         0.313         0.918   \n",
      "41       0                 0     1    0         1         0.848         0.325   \n",
      "42       0                 0     0    1         0         0.604         0.767   \n",
      "43       0                 1     0    1         0         0.313         0.767   \n",
      "47       0                 0     0    0         1         0.593         0.651   \n",
      "51       0                 0     0    0         0         0.034         0.279   \n",
      "52       0                 0     0    0         0         0.720         0.651   \n",
      "53       0                 0     0    0         1         0.406         0.651   \n",
      "54       0                 0     0    0         0         0.988         0.651   \n",
      "56       0                 0     0    0         1         0.860         0.860   \n",
      "60       0                 0     0    0         1         0.941         0.220   \n",
      "61       0                 0     0    0         1         0.941         0.220   \n",
      "64       1                 0     0    1         0         0.546         0.651   \n",
      "65       0                 1     0    1         0         0.604         0.651   \n",
      "66       0                 0     0    0         1         0.069         0.116   \n",
      "68       0                 0     0    0         1         0.151         0.220   \n",
      "73       0                 0     0    0         1         0.604         0.755   \n",
      "79       0                 1     0    1         0         0.546         0.906   \n",
      "\n",
      "    winpercent  \n",
      "0    66.971725  \n",
      "1    67.602936  \n",
      "6    56.914547  \n",
      "18   57.119740  \n",
      "22   55.375454  \n",
      "23   62.284481  \n",
      "24   56.490501  \n",
      "25   59.236122  \n",
      "27   57.219250  \n",
      "28   76.768600  \n",
      "32   71.465050  \n",
      "33   66.574585  \n",
      "35   55.064072  \n",
      "36   73.099556  \n",
      "37   60.800701  \n",
      "38   64.353340  \n",
      "40   54.526451  \n",
      "41   55.354046  \n",
      "42   70.735641  \n",
      "43   66.470680  \n",
      "47   69.483788  \n",
      "51   81.866257  \n",
      "52   84.180290  \n",
      "53   73.434990  \n",
      "54   72.887901  \n",
      "56   65.716286  \n",
      "60   63.085140  \n",
      "61   55.103695  \n",
      "64   76.673782  \n",
      "65   59.529251  \n",
      "66   59.863998  \n",
      "68   67.037628  \n",
      "73   54.861111  \n",
      "79   81.642914  \n"
     ]
    }
   ],
   "source": [
    "winners = Candy_data[Candy_data.winpercent>Candy_data.winpercent.quantile(.6)]\n",
    "print(winners)"
   ]
  },
  {
   "cell_type": "code",
   "execution_count": 48,
   "metadata": {},
   "outputs": [
    {
     "data": {
      "text/plain": [
       "<matplotlib.axes._subplots.AxesSubplot at 0x1fbecb88b38>"
      ]
     },
     "execution_count": 48,
     "metadata": {},
     "output_type": "execute_result"
    },
    {
     "data": {
      "image/png": "[encoded data removed]",
      "text/plain": [
       "<Figure size 720x360 with 1 Axes>"
      ]
     },
     "metadata": {},
     "output_type": "display_data"
    }
   ],
   "source": [
    "from mlxtend.frequent_patterns import apriori\n",
    "df =  winners[Candy_data.columns[1:-3]]\n",
    "association = apriori(df, min_support=0.3,use_colnames=True).sort_values(by='support')\n",
    "\n",
    "\n",
    "association.plot(kind='barh',x='itemsets',y='support',title=f'Most Frequently Used Composition',sort_columns=True,figsize = (10,5),legend=False)"
   ]
  },
  {
   "cell_type": "markdown",
   "metadata": {},
   "source": [
    "<a id=section402></a>"
   ]
  },
  {
   "cell_type": "markdown",
   "metadata": {},
   "source": [
    "<a id=section402></a>"
   ]
  },
  {
   "cell_type": "markdown",
   "metadata": {},
   "source": [
    "### 4.2 Bivariate Analysis"
   ]
  },
  {
   "cell_type": "code",
   "execution_count": 63,
   "metadata": {},
   "outputs": [
    {
     "data": {
      "text/plain": [
       "<seaborn.axisgrid.JointGrid at 0x1fbee4e3400>"
      ]
     },
     "execution_count": 63,
     "metadata": {},
     "output_type": "execute_result"
    },
    {
     "data": {
      "image/png": "[encoded data removed]",
      "text/plain": [
       "<Figure size 432x432 with 3 Axes>"
      ]
     },
     "metadata": {},
     "output_type": "display_data"
    }
   ],
   "source": [
    "sns.jointplot(x=\"sugarpercent\", y=\"winpercent\", data=winners,kind=\"kde\",stat_func=spearmanr)"
   ]
  },
  {
   "cell_type": "markdown",
   "metadata": {},
   "source": [
    "##### Linearity of Sugar and Win Percent:- \n",
    "\n",
    "The above plot proves the alternative hypothesis that sugar percentage is not linear to the popularity of the candy i.e. __sugar content of candy doesn't contribute to the popularity of the candy__."
   ]
  },
  {
   "cell_type": "code",
   "execution_count": 64,
   "metadata": {},
   "outputs": [
    {
     "data": {
      "text/plain": [
       "<seaborn.axisgrid.JointGrid at 0x1fbee442978>"
      ]
     },
     "execution_count": 64,
     "metadata": {},
     "output_type": "execute_result"
    },
    {
     "data": {
      "image/png": "[encoded data removed]",
      "text/plain": [
       "<Figure size 432x432 with 3 Axes>"
      ]
     },
     "metadata": {},
     "output_type": "display_data"
    }
   ],
   "source": [
    "sns.jointplot(x=\"pricepercent\", y=\"winpercent\", data=winners,kind=\"kde\",stat_func=spearmanr)"
   ]
  },
  {
   "cell_type": "markdown",
   "metadata": {},
   "source": [
    "#### Linearity of Price and Win Percent\n",
    "\n",
    "The above plot proves the alternative hypothesis that price percentage is not linear to the popularity of the candy i.e. __cost of candy doesn't contribute to the popularity of the candy__"
   ]
  },
  {
   "cell_type": "markdown",
   "metadata": {},
   "source": [
    "<a id=section5></a>"
   ]
  },
  {
   "cell_type": "markdown",
   "metadata": {},
   "source": [
    "# 5. Model Training & Checking Accuracy Using Different Algorithm"
   ]
  },
  {
   "cell_type": "code",
   "execution_count": 79,
   "metadata": {},
   "outputs": [],
   "source": [
    "winners.sugarpercent = round(winners.sugarpercent,3)\n",
    "winners.pricepercent = round(winners.pricepercent,3)\n",
    "winners.winpercent = round(winners.winpercent,3)"
   ]
  },
  {
   "cell_type": "code",
   "execution_count": 128,
   "metadata": {},
   "outputs": [],
   "source": [
    "from sklearn.model_selection import train_test_split\n",
    "X_train, X_test, y_train, y_test = train_test_split(winners[winners.columns[1:10]],winners[winners.columns[-1]], test_size=0.20, random_state=42)\n"
   ]
  },
  {
   "cell_type": "code",
   "execution_count": 129,
   "metadata": {},
   "outputs": [
    {
     "name": "stdout",
     "output_type": "stream",
     "text": [
      "(27, 9)\n",
      "(27,)\n",
      "(7, 9)\n",
      "(7,)\n"
     ]
    }
   ],
   "source": [
    "print(X_train.shape)\n",
    "print(y_train.shape)\n",
    "print(X_test.shape)\n",
    "print(y_test.shape)"
   ]
  },
  {
   "cell_type": "markdown",
   "metadata": {},
   "source": [
    "__Training Data Using LinerRegression__"
   ]
  },
  {
   "cell_type": "code",
   "execution_count": 130,
   "metadata": {},
   "outputs": [
    {
     "name": "stdout",
     "output_type": "stream",
     "text": [
      "LinearRegression(copy_X=True, fit_intercept=True, n_jobs=1, normalize=False)\n"
     ]
    }
   ],
   "source": [
    "from sklearn.linear_model import LinearRegression\n",
    "lr_reg = LinearRegression().fit(X_train,y_train)\n",
    "print(lr_reg)"
   ]
  },
  {
   "cell_type": "code",
   "execution_count": 131,
   "metadata": {},
   "outputs": [
    {
     "name": "stdout",
     "output_type": "stream",
     "text": [
      "[61.97365983 59.72075    70.72504455 67.68339816 65.01530622 61.5956082\n",
      " 55.354      70.72504455 65.33158416 65.01530622 68.37323055 68.02830057\n",
      " 59.72075    59.72075    70.38011457 67.71202263 59.72075    84.18\n",
      " 61.5956082  61.97365983 58.8988918  67.71202263 67.68339816 58.8988918\n",
      " 67.71202263 65.33158416 68.02830057]\n",
      "[55.8572454  70.72504455 59.72075    59.72075    65.01530622 84.18\n",
      " 84.18      ]\n"
     ]
    }
   ],
   "source": [
    "y_pred_train = lr_reg.predict(X_train)\n",
    "y_pred_test = lr_reg.predict(X_test)\n",
    "print(y_pred_train)\n",
    "print(y_pred_test)"
   ]
  },
  {
   "cell_type": "markdown",
   "metadata": {},
   "source": [
    "Model Evaluation using Accuracy"
   ]
  },
  {
   "cell_type": "code",
   "execution_count": 132,
   "metadata": {},
   "outputs": [
    {
     "data": {
      "text/plain": [
       "0.37475605032100157"
      ]
     },
     "execution_count": 132,
     "metadata": {},
     "output_type": "execute_result"
    }
   ],
   "source": [
    "lr_reg.score(X_test, y_test)"
   ]
  },
  {
   "cell_type": "markdown",
   "metadata": {},
   "source": [
    "__Training Data Using DecisionTree__"
   ]
  },
  {
   "cell_type": "code",
   "execution_count": 133,
   "metadata": {},
   "outputs": [
    {
     "name": "stdout",
     "output_type": "stream",
     "text": [
      "DecisionTreeRegressor(criterion='mse', max_depth=5, max_features=None,\n",
      "           max_leaf_nodes=None, min_impurity_decrease=0.0,\n",
      "           min_impurity_split=None, min_samples_leaf=1,\n",
      "           min_samples_split=2, min_weight_fraction_leaf=0.0,\n",
      "           presort=False, random_state=None, splitter='best')\n"
     ]
    }
   ],
   "source": [
    "from sklearn.tree import DecisionTreeRegressor\n",
    "reg = DecisionTreeRegressor(max_depth=5).fit(X_train,y_train)\n",
    "print(reg)"
   ]
  },
  {
   "cell_type": "code",
   "execution_count": 137,
   "metadata": {},
   "outputs": [
    {
     "name": "stdout",
     "output_type": "stream",
     "text": [
      "[60.6825     59.72075    69.5265     74.3075     60.6825     62.631\n",
      " 55.354      69.5265     66.9505     60.6825     67.603      66.7945\n",
      " 59.72075    59.72075    59.529      71.46133333 59.72075    84.18\n",
      " 62.631      60.6825     57.8635     71.46133333 74.3075     57.8635\n",
      " 71.46133333 66.9505     66.7945    ]\n",
      "[57.8635  69.5265  59.72075 59.72075 60.6825  84.18    84.18   ]\n"
     ]
    }
   ],
   "source": [
    "y_pred_train = reg.predict(X_train)\n",
    "y_pred_test =  reg.predict(X_test)\n",
    "print(y_pred_train)\n",
    "print(y_pred_test)"
   ]
  },
  {
   "cell_type": "markdown",
   "metadata": {},
   "source": [
    "Evaluation Using Accuracy"
   ]
  },
  {
   "cell_type": "code",
   "execution_count": 139,
   "metadata": {},
   "outputs": [
    {
     "data": {
      "text/plain": [
       "0.5478030070979345"
      ]
     },
     "execution_count": 139,
     "metadata": {},
     "output_type": "execute_result"
    }
   ],
   "source": [
    "reg.score(X_test, y_test)"
   ]
  },
  {
   "cell_type": "markdown",
   "metadata": {},
   "source": [
    "__Training Data Using RandomForest__"
   ]
  },
  {
   "cell_type": "code",
   "execution_count": 135,
   "metadata": {},
   "outputs": [
    {
     "name": "stdout",
     "output_type": "stream",
     "text": [
      "RandomForestRegressor(bootstrap=True, criterion='mse', max_depth=None,\n",
      "           max_features='auto', max_leaf_nodes=None,\n",
      "           min_impurity_decrease=0.0, min_impurity_split=None,\n",
      "           min_samples_leaf=1, min_samples_split=2,\n",
      "           min_weight_fraction_leaf=0.0, n_estimators=200, n_jobs=1,\n",
      "           oob_score=False, random_state=None, verbose=0, warm_start=False)\n"
     ]
    }
   ],
   "source": [
    "from sklearn.ensemble import RandomForestRegressor\n",
    "rf_reg = RandomForestRegressor(n_estimators=200).fit(X_train,y_train)\n",
    "print(rf_reg)"
   ]
  },
  {
   "cell_type": "code",
   "execution_count": 141,
   "metadata": {},
   "outputs": [
    {
     "name": "stdout",
     "output_type": "stream",
     "text": [
      "[60.97613242 59.5329023  70.00689942 73.07993113 61.427315   62.89518958\n",
      " 57.24002123 70.00689942 66.64594717 61.427315   65.81243958 66.77309058\n",
      " 59.5329023  59.5329023  64.15441983 71.39021067 59.5329023  77.3984095\n",
      " 62.89518958 60.97613242 58.87122792 71.39021067 73.07993113 58.87122792\n",
      " 71.39021067 66.64594717 66.77309058]\n",
      "[62.01134892 70.00689942 59.5329023  59.5329023  61.427315   77.3984095\n",
      " 77.3984095 ]\n"
     ]
    }
   ],
   "source": [
    "y_pred_train = rf_reg.predict(X_train)\n",
    "y_pred_test =  rf_reg.predict(X_test)\n",
    "print(y_pred_train)\n",
    "print(y_pred_test)"
   ]
  },
  {
   "cell_type": "markdown",
   "metadata": {},
   "source": [
    "Evaluation Using Accuracy"
   ]
  },
  {
   "cell_type": "code",
   "execution_count": 142,
   "metadata": {},
   "outputs": [
    {
     "data": {
      "text/plain": [
       "0.7862253347645063"
      ]
     },
     "execution_count": 142,
     "metadata": {},
     "output_type": "execute_result"
    }
   ],
   "source": [
    "rf_reg.score(X_test, y_test)"
   ]
  },
  {
   "cell_type": "markdown",
   "metadata": {},
   "source": [
    "<a id=section6></a>"
   ]
  },
  {
   "cell_type": "markdown",
   "metadata": {},
   "source": [
    "#### From Above Training & Testing & evaluation it is observed that Model Accuracy works good with Random Decison Tree Algorithm"
   ]
  },
  {
   "cell_type": "markdown",
   "metadata": {},
   "source": [
    "# 6. Conclusion"
   ]
  },
  {
   "cell_type": "markdown",
   "metadata": {},
   "source": [
    "<a id=section601></a>"
   ]
  },
  {
   "cell_type": "markdown",
   "metadata": {},
   "source": [
    "### 6.1 Identifying the Components that make a Good Candy"
   ]
  },
  {
   "cell_type": "code",
   "execution_count": 146,
   "metadata": {},
   "outputs": [
    {
     "data": {
      "text/plain": [
       "<matplotlib.axes._subplots.AxesSubplot at 0x1fbf0e1ab00>"
      ]
     },
     "execution_count": 146,
     "metadata": {},
     "output_type": "execute_result"
    },
    {
     "data": {
      "image/png": "[encoded data removed]",
      "text/plain": [
       "<Figure size 720x360 with 1 Axes>"
      ]
     },
     "metadata": {},
     "output_type": "display_data"
    }
   ],
   "source": [
    "association.plot(kind='barh',x='itemsets',y='support',title=f'Most Frequently Used Composition',sort_columns=True,figsize = (10,5),legend=False)"
   ]
  },
  {
   "cell_type": "markdown",
   "metadata": {},
   "source": [
    "<a id=section602></a>"
   ]
  },
  {
   "cell_type": "markdown",
   "metadata": {},
   "source": [
    "<a id=section602></a>"
   ]
  },
  {
   "cell_type": "markdown",
   "metadata": {},
   "source": [
    "### 6.2  Most Popular and Least Popular Candies"
   ]
  },
  {
   "cell_type": "code",
   "execution_count": 152,
   "metadata": {},
   "outputs": [
    {
     "data": {
      "text/plain": [
       "<matplotlib.axes._subplots.AxesSubplot at 0x1fbf0f336a0>"
      ]
     },
     "execution_count": 152,
     "metadata": {},
     "output_type": "execute_result"
    },
    {
     "data": {
      "image/png": "[encoded data removed]",
      "text/plain": [
       "<Figure size 720x360 with 1 Axes>"
      ]
     },
     "metadata": {},
     "output_type": "display_data"
    }
   ],
   "source": [
    "popularity = winners[['competitorname','winpercent']].sort_values(by='winpercent')\n",
    "pd.concat([popularity.head(5),popularity.tail(5)],axis=0).plot(x='competitorname',y='winpercent',kind='barh',title='Popularity of various candies',sort_columns=True,figsize = (10,5),legend=False)"
   ]
  },
  {
   "cell_type": "markdown",
   "metadata": {},
   "source": [
    "### THANK YOU"
   ]
  }
 ],
 "metadata": {
  "kernelspec": {
   "display_name": "Python 3",
   "language": "python",
   "name": "python3"
  },
  "language_info": {
   "codemirror_mode": {
    "name": "ipython",
    "version": 3
   },
   "file_extension": ".py",
   "mimetype": "text/x-python",
   "name": "python",
   "nbconvert_exporter": "python",
   "pygments_lexer": "ipython3",
   "version": "3.7.0"
  }
 },
 "nbformat": 4,
 "nbformat_minor": 2
}
